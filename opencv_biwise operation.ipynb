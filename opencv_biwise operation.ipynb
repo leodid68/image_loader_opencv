{
 "cells": [
  {
   "cell_type": "code",
   "id": "initial_id",
   "metadata": {
    "collapsed": true,
    "ExecuteTime": {
     "end_time": "2025-07-04T13:07:39.750093Z",
     "start_time": "2025-07-04T13:07:39.567821Z"
    }
   },
   "source": [
    "from curses.textpad import rectangle\n",
    "import cv2\n",
    "import imutils\n",
    "from IPython.display import Image, display\n",
    "import numpy as np\n",
    "import os\n",
    "import matplotlib.pyplot as plt"
   ],
   "outputs": [],
   "execution_count": 9
  },
  {
   "metadata": {
    "ExecuteTime": {
     "end_time": "2025-07-04T13:07:39.754204Z",
     "start_time": "2025-07-04T13:07:39.752678Z"
    }
   },
   "cell_type": "code",
   "source": "rectangle = np.zeros(shape=(300, 300), dtype=\"uint8\")",
   "id": "c519c8563b05d2cf",
   "outputs": [],
   "execution_count": 10
  },
  {
   "metadata": {
    "ExecuteTime": {
     "end_time": "2025-07-04T13:07:39.763048Z",
     "start_time": "2025-07-04T13:07:39.760532Z"
    }
   },
   "cell_type": "code",
   "source": "cv2.rectangle(rectangle, (10, 10), (200, 200), 255, -1)",
   "id": "67155ee4b8788460",
   "outputs": [
    {
     "data": {
      "text/plain": [
       "array([[0, 0, 0, ..., 0, 0, 0],\n",
       "       [0, 0, 0, ..., 0, 0, 0],\n",
       "       [0, 0, 0, ..., 0, 0, 0],\n",
       "       ...,\n",
       "       [0, 0, 0, ..., 0, 0, 0],\n",
       "       [0, 0, 0, ..., 0, 0, 0],\n",
       "       [0, 0, 0, ..., 0, 0, 0]], shape=(300, 300), dtype=uint8)"
      ]
     },
     "execution_count": 11,
     "metadata": {},
     "output_type": "execute_result"
    }
   ],
   "execution_count": 11
  },
  {
   "metadata": {
    "ExecuteTime": {
     "end_time": "2025-07-04T13:07:57.233599Z",
     "start_time": "2025-07-04T13:07:57.168416Z"
    }
   },
   "cell_type": "code",
   "source": "plt.imshow(rectangle)",
   "id": "465b3739846c0294",
   "outputs": [
    {
     "data": {
      "text/plain": [
       "<matplotlib.image.AxesImage at 0x12689e3c0>"
      ]
     },
     "execution_count": 13,
     "metadata": {},
     "output_type": "execute_result"
    },
    {
     "data": {
      "text/plain": [
       "<Figure size 640x480 with 1 Axes>"
      ],
      "image/png": "[encoded data removed]"
     },
     "metadata": {},
     "output_type": "display_data"
    }
   ],
   "execution_count": 13
  }
 ],
 "metadata": {
  "kernelspec": {
   "display_name": "Python 3",
   "language": "python",
   "name": "python3"
  },
  "language_info": {
   "codemirror_mode": {
    "name": "ipython",
    "version": 2
   },
   "file_extension": ".py",
   "mimetype": "text/x-python",
   "name": "python",
   "nbconvert_exporter": "python",
   "pygments_lexer": "ipython2",
   "version": "2.7.6"
  }
 },
 "nbformat": 4,
 "nbformat_minor": 5
}
