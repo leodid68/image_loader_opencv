{
 "cells": [
  {
   "cell_type": "code",
   "id": "initial_id",
   "metadata": {
    "collapsed": true
   },
   "source": [
    "import cv2\n",
    "import numpy as np\n",
    "import imutils\n",
    "import os\n",
    "from IPython.display import Image, display"
   ],
   "outputs": [],
   "execution_count": null
  },
  {
   "metadata": {},
   "cell_type": "code",
   "source": "image_path = \"rotation_opencv\"",
   "id": "8aff6b965eea743d",
   "outputs": [],
   "execution_count": null
  },
  {
   "metadata": {},
   "cell_type": "code",
   "source": "image = cv2.imread('Van_Gogh-Starry_Night.jpg')",
   "id": "ef27417fa4b2ff8b",
   "outputs": [],
   "execution_count": null
  },
  {
   "metadata": {},
   "cell_type": "code",
   "source": "cv2.imwrite(os.path.join(image_path, \"Van_Gogh-Starry_Night_copy.jpg\"), image)",
   "id": "3cd443a2e02c856c",
   "outputs": [],
   "execution_count": null
  },
  {
   "metadata": {},
   "cell_type": "code",
   "source": "display(Image(os.path.join(image_path, \"Van_Gogh-Starry_Night_copy.jpg\")))",
   "id": "43c1e9a906ed75eb",
   "outputs": [],
   "execution_count": null
  },
  {
   "metadata": {},
   "cell_type": "code",
   "source": "(h,w) = image.shape[:2]",
   "id": "131f566f7baa19d9",
   "outputs": [],
   "execution_count": null
  },
  {
   "metadata": {},
   "cell_type": "code",
   "source": "print(\"Width: {} pixels, Height: {}\".format(w, h))",
   "id": "4fa19f49cf233d38",
   "outputs": [],
   "execution_count": null
  },
  {
   "metadata": {},
   "cell_type": "code",
   "source": "(cX,cY) = (w//2,h//2)",
   "id": "134c528f6b01f6d0",
   "outputs": [],
   "execution_count": null
  },
  {
   "metadata": {},
   "cell_type": "code",
   "source": [
    "print(\"Center of the image - X: {}, Y: {}\".format(cX,cY))\n",
    "print(\" X = Height/2, Y = Width/2\")"
   ],
   "id": "cf32d5332e6bf1db",
   "outputs": [],
   "execution_count": null
  },
  {
   "metadata": {},
   "cell_type": "code",
   "source": "M = cv2.getRotationMatrix2D(center=(cX,cY), angle=45, scale=1.0)",
   "id": "10d990ad115f5609",
   "outputs": [],
   "execution_count": null
  },
  {
   "metadata": {},
   "cell_type": "code",
   "source": "rotated = cv2.warpAffine(image, M, dsize=(w,h))",
   "id": "ab63dd6f97690f1c",
   "outputs": [],
   "execution_count": null
  },
  {
   "metadata": {},
   "cell_type": "code",
   "source": "cv2.imwrite(os.path.join(image_path, \"Van_Gogh-Starry_Night_rotated.jpg\"), rotated)",
   "id": "3582daab581ab8a0",
   "outputs": [],
   "execution_count": null
  },
  {
   "metadata": {},
   "cell_type": "code",
   "source": [
    "print(\"Rotated Image 45\")\n",
    "display(Image(os.path.join(image_path, \"Van_Gogh-Starry_Night_rotated.jpg\")))"
   ],
   "id": "cd79a7c246052121",
   "outputs": [],
   "execution_count": null
  },
  {
   "metadata": {},
   "cell_type": "code",
   "source": "M2 = cv2.getRotationMatrix2D(center=(20,40), angle=-75, scale=1.0)",
   "id": "a2a42ec8f875d906",
   "outputs": [],
   "execution_count": null
  },
  {
   "metadata": {},
   "cell_type": "code",
   "source": "rotated2 = cv2.warpAffine(image, M2, dsize=(w,h))",
   "id": "51d268ee75d13676",
   "outputs": [],
   "execution_count": null
  },
  {
   "metadata": {},
   "cell_type": "code",
   "source": "cv2.imwrite(os.path.join(image_path, \"Van_Gogh-Starry_Night_rotated2.jpg\"), rotated2)",
   "id": "f69761a81943ae80",
   "outputs": [],
   "execution_count": null
  },
  {
   "metadata": {},
   "cell_type": "code",
   "source": [
    "print(\"Rotated Image -75, center point (20,40)\")\n",
    "display(Image(os.path.join(image_path, \"Van_Gogh-Starry_Night_rotated2.jpg\")))"
   ],
   "id": "f52b2c43dad4b6b0",
   "outputs": [],
   "execution_count": null
  },
  {
   "metadata": {},
   "cell_type": "markdown",
   "source": "Using imutils",
   "id": "cb36062fa3158d7b"
  },
  {
   "metadata": {},
   "cell_type": "code",
   "source": "rotating_imutils = imutils.rotate(image, center=(cX,cY), angle=45)",
   "id": "ad78e4c56cdcdd66",
   "outputs": [],
   "execution_count": null
  },
  {
   "metadata": {},
   "cell_type": "code",
   "source": "cv2.imwrite(os.path.join(image_path, \"Van_Gogh-Starry_Night_rotating_imutils.jpg\"), rotating_imutils)",
   "id": "e4831bf3bb4771df",
   "outputs": [],
   "execution_count": null
  },
  {
   "metadata": {},
   "cell_type": "code",
   "source": [
    "print(\"Rotated Image 45 using imutils\")\n",
    "display(Image(os.path.join(image_path, \"Van_Gogh-Starry_Night_rotating_imutils.jpg\")))"
   ],
   "id": "f52c0cb3676fdb3",
   "outputs": [],
   "execution_count": null
  },
  {
   "metadata": {},
   "cell_type": "code",
   "source": "",
   "id": "5fe16223f03c8e34",
   "outputs": [],
   "execution_count": null
  },
  {
   "metadata": {},
   "cell_type": "code",
   "source": [
    "for i in range(1, 6, 1):\n",
    "    rotated = imutils.rotate(image, angle=np.random.randint(0, 360))\n",
    "    translated = imutils.translate(rotated, x=np.random.randint(-100, 100), y=np.random.randint(-100, 100))\n",
    "    cv2.imwrite(os.path.join(image_path, \"Van_Gogh-Starry_Night_rotated_translated{}.jpg\".format(i)), translated)\n",
    "    print(\"Rotated and translated Image {} using imutils\".format(i))\n",
    "    display(Image(os.path.join(image_path, \"Van_Gogh-Starry_Night_rotated_translated{}.jpg\".format(i))))\n",
    "\n",
    "    #FileNotFoundError: No such file or directory: 'rotation_opencv/Van_Gogh-Starry_Night_rotated_translated5.jpg'\n"
   ],
   "id": "9c8782ab55967319",
   "outputs": [],
   "execution_count": null
  },
  {
   "metadata": {},
   "cell_type": "code",
   "source": "rotating_counterclockwise = imutils.rotate_bound(image, angle=-50)",
   "id": "569c909033e99360",
   "outputs": [],
   "execution_count": null
  },
  {
   "metadata": {},
   "cell_type": "code",
   "source": "cv2.imwrite(os.path.join(image_path, \"van_gogh_rotate_counterclockwise.jpg\"), rotating_counterclockwise)",
   "id": "38f20acf7627b2ff",
   "outputs": [],
   "execution_count": null
  },
  {
   "metadata": {},
   "cell_type": "code",
   "source": [
    "print(\"Rotated Image -50 using imutils\")\n",
    "display(Image(os.path.join(image_path, \"van_gogh_rotate_counterclockwise.jpg\")))"
   ],
   "id": "eb2c544b59b5e36a",
   "outputs": [],
   "execution_count": null
  },
  {
   "metadata": {},
   "cell_type": "code",
   "source": [
    "for i in range(1, 6, 1):\n",
    "    rotated_bound = imutils.rotate_bound(image, angle=np.random.randint(-100, 100))\n",
    "    translated_bound = imutils.translate(rotated_bound, x=np.random.randint(100, 500), y=np.random.randint(-100, 100))\n",
    "    cv2.imwrite(os.path.join(image_path, \"Van_Gogh_Bound_rotated_translated{}.jpg\".format(i)), translated_bound)\n",
    "    display(Image(os.path.join(image_path, \"Van_Gogh_Bound_rotated_translated{}.jpg\".format(i))))"
   ],
   "id": "c2d56e6534a3c0c8",
   "outputs": [],
   "execution_count": null
  }
 ],
 "metadata": {
  "kernelspec": {
   "display_name": "Python 3",
   "language": "python",
   "name": "python3"
  },
  "language_info": {
   "codemirror_mode": {
    "name": "ipython",
    "version": 2
   },
   "file_extension": ".py",
   "mimetype": "text/x-python",
   "name": "python",
   "nbconvert_exporter": "python",
   "pygments_lexer": "ipython2",
   "version": "2.7.6"
  }
 },
 "nbformat": 4,
 "nbformat_minor": 5
}
