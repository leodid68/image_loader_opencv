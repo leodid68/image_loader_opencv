{
 "cells": [
  {
   "metadata": {
    "ExecuteTime": {
     "end_time": "2025-07-03T18:46:50.028010Z",
     "start_time": "2025-07-03T18:46:49.957539Z"
    }
   },
   "cell_type": "code",
   "source": [
    "import cv2\n",
    "import numpy as np\n",
    "import os\n",
    "import imutils\n",
    "import numpy as np\n",
    "from IPython.display import Image, display"
   ],
   "id": "f127b3a27c0f1bb1",
   "outputs": [],
   "execution_count": 1
  },
  {
   "cell_type": "code",
   "id": "initial_id",
   "metadata": {
    "collapsed": true,
    "ExecuteTime": {
     "end_time": "2025-07-03T18:46:51.717031Z",
     "start_time": "2025-07-03T18:46:51.713009Z"
    }
   },
   "source": [
    "added = cv2.add(np.uint8([200]), np.uint8([100]))\n",
    "subtracted = cv2.subtract(np.uint8([50]), np.uint8([100]))"
   ],
   "outputs": [],
   "execution_count": 2
  },
  {
   "metadata": {
    "ExecuteTime": {
     "end_time": "2025-07-03T18:47:06.256505Z",
     "start_time": "2025-07-03T18:47:06.254169Z"
    }
   },
   "cell_type": "code",
   "source": [
    "print(f\"Added: {added}\")\n",
    "print(f\"Subtracted: {subtracted}\")"
   ],
   "id": "8ed933bf3e7dcafa",
   "outputs": [
    {
     "name": "stdout",
     "output_type": "stream",
     "text": [
      "Added: [[300.]\n",
      " [  0.]\n",
      " [  0.]\n",
      " [  0.]]\n",
      "Subtracted: [[-50.]\n",
      " [  0.]\n",
      " [  0.]\n",
      " [  0.]]\n"
     ]
    }
   ],
   "execution_count": 3
  }
 ],
 "metadata": {
  "kernelspec": {
   "display_name": "Python 3",
   "language": "python",
   "name": "python3"
  },
  "language_info": {
   "codemirror_mode": {
    "name": "ipython",
    "version": 2
   },
   "file_extension": ".py",
   "mimetype": "text/x-python",
   "name": "python",
   "nbconvert_exporter": "python",
   "pygments_lexer": "ipython2",
   "version": "2.7.6"
  }
 },
 "nbformat": 4,
 "nbformat_minor": 5
}
