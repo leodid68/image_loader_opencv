{
 "cells": [
  {
   "cell_type": "code",
   "id": "initial_id",
   "metadata": {
    "collapsed": true
   },
   "source": [
    "import cv2\n",
    "import numpy as np\n",
    "import imutils\n",
    "import os\n",
    "from IPython.display import Image, display"
   ],
   "outputs": [],
   "execution_count": null
  },
  {
   "metadata": {},
   "cell_type": "code",
   "source": "image_path = \"/Users/leodidier/Documents/GitHub/image_loader_opencv/resizing_image\"",
   "id": "3205541837915341",
   "outputs": [],
   "execution_count": null
  },
  {
   "metadata": {},
   "cell_type": "code",
   "source": "image = cv2.imread(\"/Users/leodidier/Documents/GitHub/image_loader_opencv/Van_Gogh-Starry_Night.jpg\")",
   "id": "8d370e91501ebe08",
   "outputs": [],
   "execution_count": null
  },
  {
   "metadata": {},
   "cell_type": "code",
   "source": "cv2.imwrite(os.path.join(image_path, \"Van_Gogh-Starry_Night.jpg\"), image)",
   "id": "6fa0a41cdef23df1",
   "outputs": [],
   "execution_count": null
  },
  {
   "metadata": {},
   "cell_type": "code",
   "source": "display(Image(filename=os.path.join(image_path, \"Van_Gogh-Starry_Night.jpg\")))",
   "id": "18d25ce0fb84a039",
   "outputs": [],
   "execution_count": null
  },
  {
   "metadata": {},
   "cell_type": "markdown",
   "source": "Calculer ratio image",
   "id": "709903e6d2edb94e"
  },
  {
   "metadata": {},
   "cell_type": "code",
   "source": [
    "# Valeur resize image\n",
    "\n",
    "VRS = 400"
   ],
   "id": "f5062317c720ee44",
   "outputs": [],
   "execution_count": null
  },
  {
   "metadata": {},
   "cell_type": "code",
   "source": [
    "r = VRS / image.shape[1]\n",
    "\n",
    "print(r)"
   ],
   "id": "40bc034da99254dc",
   "outputs": [],
   "execution_count": null
  },
  {
   "metadata": {},
   "cell_type": "code",
   "source": [
    "dim = (VRS, int(image.shape[0] * r))\n",
    "\n",
    "print(dim)"
   ],
   "id": "72f9dd80301ccbfe",
   "outputs": [],
   "execution_count": null
  },
  {
   "metadata": {},
   "cell_type": "code",
   "source": "print(\"Ratio de l'image est de {} et la dimension de {}\".format(r, dim))",
   "id": "3f323a5cc4972dfa",
   "outputs": [],
   "execution_count": null
  },
  {
   "metadata": {},
   "cell_type": "code",
   "source": [
    "resized = cv2.resize(image, dim, interpolation = cv2.INTER_AREA)\n",
    "cv2.imwrite(os.path.join(image_path, \"Van_Gogh-Starry_Night_resized.jpg\"), resized)\n",
    "display(Image(filename=os.path.join(image_path, \"Van_Gogh-Starry_Night_resized.jpg\")))"
   ],
   "id": "6d8e84c2a25e6336",
   "outputs": [],
   "execution_count": null
  },
  {
   "metadata": {},
   "cell_type": "code",
   "source": "VRS = 50",
   "id": "e3f4ae4c9c830270",
   "outputs": [],
   "execution_count": null
  },
  {
   "metadata": {},
   "cell_type": "code",
   "source": [
    "r = VRS / image.shape[1]\n",
    "print(r)"
   ],
   "id": "46a78511337d2f90",
   "outputs": [],
   "execution_count": null
  },
  {
   "metadata": {},
   "cell_type": "code",
   "source": [
    "dim = (VRS, int(image.shape[0] * r))\n",
    "print(dim)"
   ],
   "id": "2875f577530ed196",
   "outputs": [],
   "execution_count": null
  },
  {
   "metadata": {},
   "cell_type": "code",
   "source": "print(\"Ratio de l'image est de {} et la dimension de {}\".format(r, dim))",
   "id": "437c9c2729644d3a",
   "outputs": [],
   "execution_count": null
  },
  {
   "metadata": {},
   "cell_type": "code",
   "source": "image_2 = cv2.imread(\"Van_Gogh-Starry_Night.jpg\")",
   "id": "7b5bf1f2b03c3f71",
   "outputs": [],
   "execution_count": null
  },
  {
   "metadata": {},
   "cell_type": "code",
   "source": "resized_2 = cv2.resize(image_2, dim, interpolation = cv2.INTER_AREA)",
   "id": "27aa0618444f9d7c",
   "outputs": [],
   "execution_count": null
  },
  {
   "metadata": {},
   "cell_type": "code",
   "source": [
    "cv2.imwrite(os.path.join(image_path, \"Van_Gogh-Starry_Night_resized_2.jpg\"), resized_2)\n",
    "display(Image(filename=os.path.join(image_path, \"Van_Gogh-Starry_Night_resized_2.jpg\")))"
   ],
   "id": "c19d5a71fb1a552b",
   "outputs": [],
   "execution_count": null
  },
  {
   "metadata": {},
   "cell_type": "code",
   "source": [
    "# ==================== BOUCLE PRINCIPALE ====================\n",
    "# Crée 9 variations de l'image (tailles de 50px à 450px de largeur)\n",
    "for i in range(1, 10, 1):  # i = 1, 2, 3, 4, 5, 6, 7, 8, 9\n",
    "\n",
    "   # ==================== REDIMENSIONNEMENT ====================\n",
    "   VRS = 50 * i  # Variable Resize Size: 50, 100, 150, 200, 250, 300, 350, 400, 450\n",
    "   r = VRS / image.shape[1]  # Calcul du ratio: nouvelle_largeur ÷ largeur_originale\n",
    "   dim = (VRS, int(image.shape[0] * r))  # Nouvelles dimensions (largeur, hauteur_proportionnelle)\n",
    "   # INTER_AREA = meilleure qualité pour réduire la taille\n",
    "   resized = cv2.resize(image, dim, interpolation=cv2.INTER_AREA)\n",
    "\n",
    "   # ==================== TRANSFORMATIONS ALÉATOIRES ====================\n",
    "   # Rotation aléatoire entre 0° et 360°\n",
    "   rotate = imutils.rotate(resized, np.random.randint(0, 360))\n",
    "\n",
    "   # Translation (déplacement) aléatoire: ±100 pixels en X et Y\n",
    "   translated = imutils.translate(rotate,\n",
    "                                np.random.randint(-100, 100),  # déplacement X\n",
    "                                np.random.randint(-100, 100))  # déplacement Y\n",
    "\n",
    "   # ==================== AJOUT DE CERCLES COLORÉS ====================\n",
    "   # Ajoute 20 cercles colorés aléatoires sur l'image\n",
    "   for l in range(20):  # Répète 20 fois\n",
    "       # Propriétés aléatoires de chaque cercle\n",
    "       radius = np.random.randint(10, 50)  # Rayon entre 10 et 50 pixels\n",
    "       color = np.random.randint(0, 255, size=(3,)).tolist()  # Couleur BGR aléatoire [B,G,R]\n",
    "       pt = np.random.randint(0, 250, size=(2,))  # Position (x,y) entre 0 et 250 pixels\n",
    "\n",
    "       # Dessine le cercle sur l'image\n",
    "       # tuple(pt) = convertit [x,y] en (x,y)\n",
    "       # -1 = cercle plein (si positif = contour seulement)\n",
    "       cv2.circle(translated, tuple(pt), radius, color, -1)\n",
    "\n",
    "   # ==================== SAUVEGARDE ET AFFICHAGE ====================\n",
    "   # Construit le nom du fichier: \"Van_Gogh-Starry_Night_resized_1.jpg\"\n",
    "   filename = \"Van_Gogh-Starry_Night_resized_{}.jpg\".format(i)\n",
    "   full_path = os.path.join(image_path, filename)\n",
    "\n",
    "   # Sauvegarde l'image finale sur le disque\n",
    "   cv2.imwrite(full_path, translated)\n",
    "\n",
    "   # Affiche l'image dans le notebook\n",
    "   display(Image(filename=full_path))"
   ],
   "id": "14a169a6059de269",
   "outputs": [],
   "execution_count": null
  },
  {
   "metadata": {},
   "cell_type": "code",
   "source": "image_boucle = cv2.imread(\"/Users/leodidier/Documents/GitHub/image_loader_opencv/Van_Gogh-Starry_Night.jpg\")",
   "id": "f69ee7aa67db871a",
   "outputs": [],
   "execution_count": null
  },
  {
   "metadata": {},
   "cell_type": "code",
   "source": [
    "methods = [\n",
    "    (\"INTER_NEAREST\", cv2.INTER_NEAREST),\n",
    "    (\"INTER_LINEAR\", cv2.INTER_LINEAR),\n",
    "    (\"INTER_AREA\", cv2.INTER_AREA),\n",
    "    (\"INTER_CUBIC\", cv2.INTER_CUBIC),\n",
    "    (\"INTER_LANCZOS4\", cv2.INTER_LANCZOS4)]"
   ],
   "id": "220b39eff46bbf23",
   "outputs": [],
   "execution_count": null
  },
  {
   "metadata": {},
   "cell_type": "code",
   "source": [
    "for (name, method) in methods:\n",
    "    print(\"Info: {}\".format(name))\n",
    "    resized = imutils.resize(image_boucle,\n",
    "                             width=image_boucle.shape[1] * 3,\n",
    "                             inter=method)\n",
    "\n",
    "    cv2.imwrite(os.path.join(image_path, \"Van_Gogh-Starry_Night_resized_{}.jpg\".format(name)), resized)\n",
    "\n",
    "    display(Image(filename=os.path.join(image_path, \"Van_Gogh-Starry_Night_resized_{}.jpg\".format(name))))"
   ],
   "id": "b3c4a4cb0b2d6b09",
   "outputs": [],
   "execution_count": null
  }
 ],
 "metadata": {
  "kernelspec": {
   "display_name": "Python 3",
   "language": "python",
   "name": "python3"
  },
  "language_info": {
   "codemirror_mode": {
    "name": "ipython",
    "version": 2
   },
   "file_extension": ".py",
   "mimetype": "text/x-python",
   "name": "python",
   "nbconvert_exporter": "python",
   "pygments_lexer": "ipython2",
   "version": "2.7.6"
  }
 },
 "nbformat": 4,
 "nbformat_minor": 5
}
